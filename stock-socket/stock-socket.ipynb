{
 "cells": [
  {
   "cell_type": "code",
   "execution_count": 3,
   "metadata": {},
   "outputs": [
    {
     "name": "stdout",
     "output_type": "stream",
     "text": [
      "Requirement already satisfied: websocket_client in c:\\users\\ndev\\.conda\\envs\\webscraper\\lib\\site-packages (0.57.0)\n",
      "Requirement already satisfied: six in c:\\users\\ndev\\.conda\\envs\\webscraper\\lib\\site-packages (from websocket_client) (1.15.0)\n",
      "Note: you may need to restart the kernel to use updated packages.\n"
     ]
    }
   ],
   "source": [
    "pip install websocket_client"
   ]
  },
  {
   "cell_type": "code",
   "execution_count": 4,
   "metadata": {},
   "outputs": [],
   "source": [
    "import json\n",
    "import os\n",
    "import csv\n",
    "import time\n",
    "from websocket import create_connection"
   ]
  },
  {
   "cell_type": "code",
   "execution_count": 5,
   "metadata": {},
   "outputs": [],
   "source": [
    "HEADERS = {\n",
    "    \"User-Agent\": \"Mozilla/5.0 (X11; Linux x86_64; rv:82.0) Gecko/20100101 Firefox/82.0\",\n",
    "    \"Accept\": \"*/*\",\n",
    "    \"Accept-Language\": \"en-US,en;q=0.5\",\n",
    "    \"Sec-WebSocket-Version\": \"13\",\n",
    "    \"Sec-WebSocket-Key\": \"XwcSn0aNlocx79iSbvT7LQ==\",\n",
    "    \"Pragma\": \"no-cache\",\n",
    "    \"Cache-Control\": \"no-cache\"\n",
    "}\n",
    "\n",
    "URL = 'wss://stream274.forexpros.com/echo/211/24okwg7g/websocket'\n",
    "\n",
    "HANDSHAKE_PARTS = [\n",
    "    ['{\\\"_event\\\":\\\"bulk-subscribe\\\",\\\"tzID\\\":\\\"8\\\",\\\"message\\\":\\\"pid-1:\\\"}'],\n",
    "    ['{\"_event\":\"UID\",\"UID\":0}']\n",
    "]\n",
    "\n",
    "SUBSCRIBE_MESSAGE = '{\\\"_event\\\":\\\"bulk-subscribe\\\",\\\"tzID\\\":\\\"8\\\",\\\"message\\\":\\\"pid-AAAA:\\\"}'\n",
    "\n",
    "HEARTBEAT_MESSAGE = ['{\\\"_event\\\":\\\"heartbeat\\\",\\\"data\\\":\\\"h\\\"}']"
   ]
  },
  {
   "cell_type": "code",
   "execution_count": 6,
   "metadata": {},
   "outputs": [],
   "source": [
    "class ForexStream:\n",
    "    def __init__(self):\n",
    "        self.ws = create_connection(URL, headers=HEADERS)\n",
    "        if self.ws.recv() != 'o':\n",
    "            raise ValueError('could not connect')\n",
    "\n",
    "        self.perform_handshake()\n",
    "\n",
    "    def perform_handshake(self):\n",
    "        for part in HANDSHAKE_PARTS:\n",
    "            self.send_message(part)\n",
    "\n",
    "    def send_message(self, message):\n",
    "        self.ws.send(json.dumps(message))\n",
    "        resp = self.ws.recv()\n",
    "        if (\"No response from heartbeat\" in resp):\n",
    "            print(message)\n",
    "            self.ws.shutdown()\n",
    "            self.__init__()\n",
    "            return self.send_message(HEARTBEAT_MESSAGE)\n",
    "        else:\n",
    "            return self.process_response(resp)\n",
    "\n",
    "    def change(self, ticker):\n",
    "        change_message = SUBSCRIBE_MESSAGE.replace('AAA', ticker.upper().strip())\n",
    "        self.send_message([change_message])\n",
    "\n",
    "    def process_response(self, message):\n",
    "        return json.loads(\n",
    "            message[3:-2].replace(\n",
    "                '\\\\\"', '\"'\n",
    "            ).replace(\n",
    "                '\\\\\\\\', '\\\\'\n",
    "            )\n",
    "        )\n",
    "\n",
    "    def maybe_get_message_json(self, data):\n",
    "        if 'message' not in data:\n",
    "            return None\n",
    "\n",
    "        return json.loads(data['message'].split('::')[1])\n",
    "\n",
    "    def start_stream(self):\n",
    "        while True:\n",
    "            data = self.maybe_get_message_json(self.send_message(HEARTBEAT_MESSAGE))\n",
    "            if data is not None:\n",
    "                yield data\n",
    "\n",
    "            time.sleep(.1)\n",
    "\n",
    "    @staticmethod\n",
    "    def make_writer(file, first_row):\n",
    "        writer = csv.DictWriter(file, first_row.keys())\n",
    "        if os.stat(file.name).st_size == 0:\n",
    "            writer.writeheader()\n",
    "\n",
    "        writer.writerow(first_row)\n",
    "        return writer\n",
    "\n",
    "    def stream_to_csv(self, filename='test.csv'):\n",
    "        stream = self.start_stream()\n",
    "        with open(filename, 'a') as f:\n",
    "            writer = self.make_writer(f, next(stream))\n",
    "            for row in stream:\n",
    "                writer.writerow(row)\n",
    "                \n",
    "    def pull_pid(self, low, high):\n",
    "        for i in range(low, high):\n",
    "            self.change(i)"
   ]
  },
  {
   "cell_type": "code",
   "execution_count": null,
   "metadata": {},
   "outputs": [
    {
     "name": "stdout",
     "output_type": "stream",
     "text": [
      "['{\"_event\":\"heartbeat\",\"data\":\"h\"}']\n",
      "['{\"_event\":\"heartbeat\",\"data\":\"h\"}']\n",
      "['{\"_event\":\"heartbeat\",\"data\":\"h\"}']\n",
      "['{\"_event\":\"heartbeat\",\"data\":\"h\"}']\n",
      "['{\"_event\":\"heartbeat\",\"data\":\"h\"}']\n",
      "['{\"_event\":\"heartbeat\",\"data\":\"h\"}']\n",
      "['{\"_event\":\"heartbeat\",\"data\":\"h\"}']\n",
      "['{\"_event\":\"heartbeat\",\"data\":\"h\"}']\n",
      "['{\"_event\":\"heartbeat\",\"data\":\"h\"}']\n",
      "['{\"_event\":\"heartbeat\",\"data\":\"h\"}']\n",
      "['{\"_event\":\"heartbeat\",\"data\":\"h\"}']\n",
      "['{\"_event\":\"heartbeat\",\"data\":\"h\"}']\n",
      "['{\"_event\":\"heartbeat\",\"data\":\"h\"}']\n",
      "['{\"_event\":\"heartbeat\",\"data\":\"h\"}']\n",
      "['{\"_event\":\"heartbeat\",\"data\":\"h\"}']\n",
      "['{\"_event\":\"heartbeat\",\"data\":\"h\"}']\n",
      "['{\"_event\":\"heartbeat\",\"data\":\"h\"}']\n",
      "['{\"_event\":\"heartbeat\",\"data\":\"h\"}']\n"
     ]
    }
   ],
   "source": [
    "if __name__ == '__main__':\n",
    "    try:\n",
    "        stream = ForexStream()\n",
    "        stream.stream_to_csv()\n",
    "    except json.JSONDecodeError:\n",
    "        print(\"connection lost\")\n",
    "    except ValueError:\n",
    "        print(\"could not connect\")\n",
    "    except TimeoutError:\n",
    "        print(\"connection lost\")"
   ]
  }
 ],
 "metadata": {
  "kernelspec": {
   "display_name": "Python 3",
   "language": "python",
   "name": "python3"
  },
  "language_info": {
   "codemirror_mode": {
    "name": "ipython",
    "version": 3
   },
   "file_extension": ".py",
   "mimetype": "text/x-python",
   "name": "python",
   "nbconvert_exporter": "python",
   "pygments_lexer": "ipython3",
   "version": "3.7.9"
  }
 },
 "nbformat": 4,
 "nbformat_minor": 4
}
