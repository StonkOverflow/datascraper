{
 "cells": [
  {
   "cell_type": "code",
   "execution_count": 1,
   "metadata": {},
   "outputs": [],
   "source": [
    "import csv\n",
    "\n",
    "from selenium import webdriver\n",
    "from selenium.webdriver.common.by import By\n",
    "from selenium.webdriver.support.ui import WebDriverWait\n",
    "from selenium.webdriver.support import expected_conditions as EC\n",
    "from selenium.common.exceptions import TimeoutException"
   ]
  },
  {
   "cell_type": "code",
   "execution_count": 2,
   "metadata": {},
   "outputs": [],
   "source": [
    "TIMEOUT = 20"
   ]
  },
  {
   "cell_type": "code",
   "execution_count": 77,
   "metadata": {
    "scrolled": true
   },
   "outputs": [],
   "source": [
    "options = webdriver.ChromeOptions()\n",
    "\n",
    "browser = webdriver.Chrome(\n",
    "    options=options\n",
    ")\n",
    "wait = WebDriverWait(browser, 10)\n",
    "\n",
    "browser.get('https://otctransparency.finra.org/otctransparency/AtsIssueData')\n",
    "wait.until(EC.element_to_be_clickable((By.CLASS_NAME, 'btn-warning')))\n",
    "\n",
    "browser.find_element_by_class_name('btn-warning').click()\n",
    "wait.until(EC.presence_of_element_located((By.TAG_NAME, 'input')))\n",
    "\n",
    "search_field = browser.find_element_by_tag_name('input')\n",
    "\n",
    "def get_symbol_data(symbol):\n",
    "    search_field.clear()\n",
    "    time.sleep(0.5)\n",
    "    \n",
    "    search_field.send_keys(symbol)\n",
    "    time.sleep(0.5)\n",
    "    \n",
    "    data = browser.find_elements_by_xpath('//div[@role=\"row\"]')\n",
    "    reader = csv.reader([d.text.replace('\\n', '*') for d in data], delimiter='*')\n",
    "    for row in reader:\n",
    "        if row[0] == symbol:\n",
    "            return {'total shares': row[2], 'total trades': row[3], 'last updated': row[4]}\n",
    "    \n",
    "\n",
    "        \n",
    "symbols = ['SPY', 'VOO', 'IVV']\n",
    "symbol_data = {symbol: get_symbol_data(symbol) for symbol in symbols}"
   ]
  },
  {
   "cell_type": "code",
   "execution_count": 78,
   "metadata": {},
   "outputs": [
    {
     "data": {
      "text/plain": [
       "{'SPY': None,\n",
       " 'VOO': {'total shares': '516,968',\n",
       "  'total trades': '6,856',\n",
       "  'last updated': '10/05/2020'},\n",
       " 'IVV': {'total shares': '828,331',\n",
       "  'total trades': '5,449',\n",
       "  'last updated': '10/05/2020'}}"
      ]
     },
     "execution_count": 78,
     "metadata": {},
     "output_type": "execute_result"
    }
   ],
   "source": [
    "symbol_data"
   ]
  },
  {
   "cell_type": "code",
   "execution_count": null,
   "metadata": {},
   "outputs": [],
   "source": []
  }
 ],
 "metadata": {
  "kernelspec": {
   "display_name": "Python 3",
   "language": "python",
   "name": "python3"
  },
  "language_info": {
   "codemirror_mode": {
    "name": "ipython",
    "version": 3
   },
   "file_extension": ".py",
   "mimetype": "text/x-python",
   "name": "python",
   "nbconvert_exporter": "python",
   "pygments_lexer": "ipython3",
   "version": "3.8.2"
  }
 },
 "nbformat": 4,
 "nbformat_minor": 4
}
